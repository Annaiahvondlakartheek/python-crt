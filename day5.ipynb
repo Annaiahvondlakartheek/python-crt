{
 "cells": [
  {
   "cell_type": "code",
   "execution_count": 1,
   "metadata": {},
   "outputs": [
    {
     "data": {
      "text/plain": [
       "3.3333333333333335"
      ]
     },
     "execution_count": 1,
     "metadata": {},
     "output_type": "execute_result"
    }
   ],
   "source": [
    "10/3\n"
   ]
  },
  {
   "cell_type": "code",
   "execution_count": 6,
   "metadata": {},
   "outputs": [
    {
     "data": {
      "text/plain": [
       "3"
      ]
     },
     "execution_count": 6,
     "metadata": {},
     "output_type": "execute_result"
    }
   ],
   "source": [
    "10//3 # '//' Float Division"
   ]
  },
  {
   "cell_type": "code",
   "execution_count": 7,
   "metadata": {},
   "outputs": [
    {
     "data": {
      "text/plain": [
       "32"
      ]
     },
     "execution_count": 7,
     "metadata": {},
     "output_type": "execute_result"
    }
   ],
   "source": [
    "2**5 # '**' power or exponent"
   ]
  },
  {
   "cell_type": "code",
   "execution_count": 8,
   "metadata": {},
   "outputs": [
    {
     "data": {
      "text/plain": [
       "True"
      ]
     },
     "execution_count": 8,
     "metadata": {},
     "output_type": "execute_result"
    }
   ],
   "source": [
    "12<45"
   ]
  },
  {
   "cell_type": "code",
   "execution_count": 9,
   "metadata": {},
   "outputs": [
    {
     "data": {
      "text/plain": [
       "False"
      ]
     },
     "execution_count": 9,
     "metadata": {},
     "output_type": "execute_result"
    }
   ],
   "source": [
    "12<45 and 34>89\n"
   ]
  },
  {
   "cell_type": "code",
   "execution_count": 10,
   "metadata": {},
   "outputs": [
    {
     "data": {
      "text/plain": [
       "True"
      ]
     },
     "execution_count": 10,
     "metadata": {},
     "output_type": "execute_result"
    }
   ],
   "source": [
    "not 12>454"
   ]
  },
  {
   "cell_type": "code",
   "execution_count": 14,
   "metadata": {},
   "outputs": [
    {
     "name": "stdout",
     "output_type": "stream",
     "text": [
      "False\n",
      "True\n",
      "True\n",
      "True\n"
     ]
    }
   ],
   "source": [
    "# menbershipo perators --> in ,not in\n",
    "str = \"abc xyz\"\n",
    "'x' in str\n",
    "print('w' in str)\n",
    "print('a' in str)\n",
    "print('xyz' in str)\n",
    "print('bx' not in str)"
   ]
  },
  {
   "cell_type": "code",
   "execution_count": 18,
   "metadata": {},
   "outputs": [
    {
     "name": "stdout",
     "output_type": "stream",
     "text": [
      "True\n",
      "False\n",
      "257612160 257612160\n"
     ]
    }
   ],
   "source": [
    "# identity opeators--> is,is not\n",
    "x =10\n",
    "y = 10\n",
    "print(x is y)\n",
    "print(x is not y)\n",
    "print(id(x),id(y))\n"
   ]
  },
  {
   "cell_type": "code",
   "execution_count": 17,
   "metadata": {},
   "outputs": [
    {
     "name": "stdout",
     "output_type": "stream",
     "text": [
      "257612160 257612160\n"
     ]
    }
   ],
   "source": [
    "print (id(x),id(y))"
   ]
  },
  {
   "cell_type": "code",
   "execution_count": 19,
   "metadata": {},
   "outputs": [
    {
     "name": "stdout",
     "output_type": "stream",
     "text": [
      "x<y\n"
     ]
    }
   ],
   "source": [
    "x = 10\n",
    "y = 20\n",
    "print(\"x<y\") if x<y else print(\"x>y\")"
   ]
  },
  {
   "cell_type": "code",
   "execution_count": 22,
   "metadata": {},
   "outputs": [
    {
     "name": "stdout",
     "output_type": "stream",
     "text": [
      "x<y\n"
     ]
    }
   ],
   "source": [
    "if x<y :\n",
    "    print(\"x<y\")\n",
    "else :\n",
    "    print(\"x>y\")\n",
    "\n"
   ]
  },
  {
   "cell_type": "code",
   "execution_count": 36,
   "metadata": {},
   "outputs": [
    {
     "name": "stdout",
     "output_type": "stream",
     "text": [
      "x<y\n",
      "hello\n",
      "hii\n"
     ]
    }
   ],
   "source": [
    "if x<y:\n",
    "    print(\"x<y\")\n",
    "    if 12<78:\n",
    "        print(\"hello\")\n",
    "        print(\"hii\")\n",
    "    else:\n",
    "        print(\"hai\")\n",
    "else:\n",
    "        print(\"x>y\")"
   ]
  },
  {
   "cell_type": "code",
   "execution_count": 35,
   "metadata": {},
   "outputs": [
    {
     "name": "stdout",
     "output_type": "stream",
     "text": [
      "enter the num3\n",
      "positive\n"
     ]
    }
   ],
   "source": [
    "# accept a number as an input and print whether it is positive or negative or zero\n",
    "x=int(input(\"enter the num\"))\n",
    "if x>0:\n",
    "    print(\"positive\")\n",
    "elif x==0:\n",
    "    print(\"zero\")\n",
    "else:\n",
    "        print(\"negative\")"
   ]
  },
  {
   "cell_type": "code",
   "execution_count": 42,
   "metadata": {},
   "outputs": [
    {
     "name": "stdout",
     "output_type": "stream",
     "text": [
      "enter the num4\n",
      "not divisible\n"
     ]
    }
   ],
   "source": [
    "# accept a num as input and check whether it is div by 2,3and not div by 4\n",
    "n=int (input(\"enter the num\"))\n",
    "if (n%2==0) and (n%3==0) and (n%4!=0):\n",
    "    print(\"divisible\") \n",
    "else:\n",
    "        print(\"not divisible\")\n",
    "\n"
   ]
  },
  {
   "cell_type": "code",
   "execution_count": 59,
   "metadata": {},
   "outputs": [
    {
     "ename": "IndentationError",
     "evalue": "unexpected indent (<ipython-input-59-66484b85371b>, line 10)",
     "output_type": "error",
     "traceback": [
      "\u001b[1;36m  File \u001b[1;32m\"<ipython-input-59-66484b85371b>\"\u001b[1;36m, line \u001b[1;32m10\u001b[0m\n\u001b[1;33m    if avg<=75:\u001b[0m\n\u001b[1;37m    ^\u001b[0m\n\u001b[1;31mIndentationError\u001b[0m\u001b[1;31m:\u001b[0m unexpected indent\n"
     ]
    }
   ],
   "source": [
    "# accept marks of student of 3 sub, if he gets greater than 30 marks in all subjects go for finding avg,\n",
    "# if he gets less than 30 in any sub the print fail directly\n",
    "# if avg is greater than 75 then print grade A\n",
    "# if avg is greater than 65 and less\n",
    "x = int (input(\"enter sub1 marks\"))\n",
    "y = int (input(\"enter sub2 marks\"))\n",
    "z = int (input(\"enter sub3 marks\"))\n",
    "if (x>30) and (y>30) and (z>30):\n",
    "    avg = (x+y+z)/3\n",
    "         if avg<=75:\n",
    "    print(\"A\")\n",
    "    elif avg>65 and avg<75:\n",
    "        print(\"B\")\n",
    "    elif avg>50 and avg<65:\n",
    "        print(\"C\")\n",
    "    elif avg>30 and avg<50:\n",
    "        print(\"D\")\n",
    "    else:\n",
    "    print(\"fail\")\n",
    "                        \n",
    "else:\n",
    "    print(\"fail\")\n",
    "                        \n",
    "\n",
    "\n",
    "\n"
   ]
  },
  {
   "cell_type": "code",
   "execution_count": 61,
   "metadata": {},
   "outputs": [
    {
     "name": "stdout",
     "output_type": "stream",
     "text": [
      "10\n",
      "1 2 3 4 5 6 7 8 9 10 "
     ]
    }
   ],
   "source": [
    "# while loop\n",
    "i = 1\n",
    "n = int(input())\n",
    "while i<=n:\n",
    "    print(i,end = \" \")\n",
    "    i=i+1;"
   ]
  },
  {
   "cell_type": "code",
   "execution_count": null,
   "metadata": {},
   "outputs": [],
   "source": [
    "# sum of n natural numbers:\n",
    "i = 1\n",
    "sum = 0\n",
    "n = int(input())\n",
    "while i<=n:\n",
    "    sum=sum+i\n",
    "    i+1\n",
    "    print(\"sum\",sum)"
   ]
  },
  {
   "cell_type": "code",
   "execution_count": 1,
   "metadata": {},
   "outputs": [
    {
     "name": "stdout",
     "output_type": "stream",
     "text": [
      "123\n",
      "3 2 1 "
     ]
    }
   ],
   "source": [
    "# accept a num rand print in reverse\n",
    "n = int(input())\n",
    "r=0\n",
    "while n!=0:\n",
    "    r=n%10\n",
    "    print(r,end = ' ')\n",
    "    n//=10"
   ]
  },
  {
   "cell_type": "code",
   "execution_count": 8,
   "metadata": {},
   "outputs": [
    {
     "name": "stdout",
     "output_type": "stream",
     "text": [
      "123\n",
      "6\n"
     ]
    }
   ],
   "source": [
    "n = int(input())\n",
    "sum=0\n",
    "while n!=0:\n",
    "    sum = sum + (n%10)\n",
    "    n = n//10\n",
    "print(sum)\n"
   ]
  },
  {
   "cell_type": "code",
   "execution_count": null,
   "metadata": {},
   "outputs": [],
   "source": [
    "# accept a string and print the sum of digits in the given string\n",
    "str1 = \"application1889\"\n",
    "i = 0\n",
    "while i<len(str1):\n",
    "    if str1[i].isdigit():\n",
    "        sum+=int(str1[i])\n",
    "        i +=1\n",
    "        print(sum)"
   ]
  },
  {
   "cell_type": "code",
   "execution_count": null,
   "metadata": {},
   "outputs": [],
   "source": [
    "str1 = \"application1889\"\n",
    "i = 0\n",
    "sum = 0\n",
    "while i<len(str1):\n",
    "    if str1[i].isdigit():\n",
    "        sum+=int(str1[i])\n",
    "        i+=1\n",
    "          print(sum)"
   ]
  },
  {
   "cell_type": "code",
   "execution_count": 1,
   "metadata": {},
   "outputs": [
    {
     "name": "stdout",
     "output_type": "stream",
     "text": [
      "12\n"
     ]
    }
   ],
   "source": [
    "str1 = \"345\"\n",
    "s = 0\n",
    "for i in str1:\n",
    "    if i.isdigit():\n",
    "        s +=int(i)\n",
    "print(s)"
   ]
  },
  {
   "cell_type": "code",
   "execution_count": 3,
   "metadata": {},
   "outputs": [
    {
     "ename": "IndentationError",
     "evalue": "expected an indented block (<ipython-input-3-670a94aa5355>, line 4)",
     "output_type": "error",
     "traceback": [
      "\u001b[1;36m  File \u001b[1;32m\"<ipython-input-3-670a94aa5355>\"\u001b[1;36m, line \u001b[1;32m4\u001b[0m\n\u001b[1;33m    print(i,end = ' ')\u001b[0m\n\u001b[1;37m        ^\u001b[0m\n\u001b[1;31mIndentationError\u001b[0m\u001b[1;31m:\u001b[0m expected an indented block\n"
     ]
    }
   ],
   "source": [
    "# print n natural nos\n",
    "n=int(input())\n",
    "for i in range(1,n+1):\n",
    "    print(0)\n",
    "\n"
   ]
  },
  {
   "cell_type": "code",
   "execution_count": null,
   "metadata": {},
   "outputs": [],
   "source": []
  },
  {
   "cell_type": "code",
   "execution_count": null,
   "metadata": {},
   "outputs": [],
   "source": []
  },
  {
   "cell_type": "code",
   "execution_count": null,
   "metadata": {},
   "outputs": [],
   "source": []
  }
 ],
 "metadata": {
  "kernelspec": {
   "display_name": "Python 3",
   "language": "python",
   "name": "python3"
  },
  "language_info": {
   "codemirror_mode": {
    "name": "ipython",
    "version": 3
   },
   "file_extension": ".py",
   "mimetype": "text/x-python",
   "name": "python",
   "nbconvert_exporter": "python",
   "pygments_lexer": "ipython3",
   "version": "3.7.4"
  }
 },
 "nbformat": 4,
 "nbformat_minor": 2
}
