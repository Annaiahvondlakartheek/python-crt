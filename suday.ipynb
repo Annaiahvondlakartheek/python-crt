{
 "cells": [
  {
   "cell_type": "code",
   "execution_count": 1,
   "metadata": {},
   "outputs": [
    {
     "name": "stdout",
     "output_type": "stream",
     "text": [
      "3 is greater than 1\n"
     ]
    }
   ],
   "source": [
    "if 3 > 1:\n",
    "    print(\"3 is greater than 1\")"
   ]
  },
  {
   "cell_type": "code",
   "execution_count": 4,
   "metadata": {},
   "outputs": [
    {
     "name": "stdout",
     "output_type": "stream",
     "text": [
      "4>2\n",
      "incorrect\n"
     ]
    }
   ],
   "source": [
    "if 4 > 2:\n",
    "    print(\"4>2\")\n",
    "if 3 <= 2:\n",
    "    print(\"3>2\")\n",
    "else:\n",
    "    print('incorrect')\n",
    "        "
   ]
  },
  {
   "cell_type": "code",
   "execution_count": 5,
   "metadata": {},
   "outputs": [
    {
     "name": "stdout",
     "output_type": "stream",
     "text": [
      "mango mango mango\n"
     ]
    }
   ],
   "source": [
    "x = y = z = \"mango\"\n",
    "print(x,y,z)"
   ]
  },
  {
   "cell_type": "code",
   "execution_count": 9,
   "metadata": {},
   "outputs": [
    {
     "name": "stdout",
     "output_type": "stream",
     "text": [
      "hii\n"
     ]
    }
   ],
   "source": [
    "# global variables\n",
    "x = \"hii\"\n",
    "def myfunc():\n",
    "    print(x)\n",
    "    \n",
    "    \n",
    "myfunc()"
   ]
  },
  {
   "cell_type": "code",
   "execution_count": 15,
   "metadata": {},
   "outputs": [
    {
     "name": "stdout",
     "output_type": "stream",
     "text": [
      "hello\n"
     ]
    }
   ],
   "source": [
    "\n",
    "def myfunc():\n",
    "    global x\n",
    "    x = \"hello\"\n",
    "    \n",
    "myfunc()\n",
    "print(x)\n",
    "    \n",
    "    \n",
    "    "
   ]
  },
  {
   "cell_type": "code",
   "execution_count": 16,
   "metadata": {},
   "outputs": [
    {
     "name": "stdout",
     "output_type": "stream",
     "text": [
      "19\n"
     ]
    }
   ],
   "source": [
    "# random num\n",
    "import random\n",
    "print(random.randrange(16,50))"
   ]
  },
  {
   "cell_type": "code",
   "execution_count": 19,
   "metadata": {},
   "outputs": [
    {
     "name": "stdout",
     "output_type": "stream",
     "text": [
      "rl\n"
     ]
    }
   ],
   "source": [
    "c = \"gitam world\"\n",
    "print(c[-3:-1])"
   ]
  },
  {
   "cell_type": "code",
   "execution_count": 4,
   "metadata": {},
   "outputs": [
    {
     "name": "stdout",
     "output_type": "stream",
     "text": [
      "good morning\n",
      "morning\n"
     ]
    }
   ],
   "source": [
    "s1 = input('')\n",
    "print(s[5:15])"
   ]
  },
  {
   "cell_type": "code",
   "execution_count": 1,
   "metadata": {},
   "outputs": [
    {
     "name": "stdout",
     "output_type": "stream",
     "text": [
      "0\n",
      "12\n",
      "123\n",
      "1234\n",
      "12345\n",
      "123456\n",
      "012"
     ]
    }
   ],
   "source": [
    "s1 = (input('') )\n",
    "s2 = (input('') )\n",
    "s3 = (input('') )\n",
    "s4 = (input('') )\n",
    "s5 = (input('') )\n",
    "s6 = (input('') )\n",
    "print(s1,end = s2)\n"
   ]
  },
  {
   "cell_type": "code",
   "execution_count": 21,
   "metadata": {},
   "outputs": [
    {
     "name": "stdout",
     "output_type": "stream",
     "text": [
      "False True True False False True\n",
      "True\n"
     ]
    }
   ],
   "source": [
    "# python operators\n",
    "a = 10\n",
    "b = 9\n",
    "print(a==b,a!=b,a>=b,a<=b,a<b,a>b)\n",
    "print(a>5 or b<=9)\n",
    "\n",
    "\n"
   ]
  },
  {
   "cell_type": "code",
   "execution_count": null,
   "metadata": {},
   "outputs": [],
   "source": []
  },
  {
   "cell_type": "code",
   "execution_count": null,
   "metadata": {},
   "outputs": [],
   "source": []
  }
 ],
 "metadata": {
  "kernelspec": {
   "display_name": "Python 3",
   "language": "python",
   "name": "python3"
  },
  "language_info": {
   "codemirror_mode": {
    "name": "ipython",
    "version": 3
   },
   "file_extension": ".py",
   "mimetype": "text/x-python",
   "name": "python",
   "nbconvert_exporter": "python",
   "pygments_lexer": "ipython3",
   "version": "3.7.4"
  }
 },
 "nbformat": 4,
 "nbformat_minor": 2
}
