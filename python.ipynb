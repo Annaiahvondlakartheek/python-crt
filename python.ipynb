{
 "cells": [
  {
   "cell_type": "markdown",
   "metadata": {},
   "source": [
    "# jupyter markdown\n",
    "## phython\n",
    "\n"
   ]
  },
  {
   "cell_type": "markdown",
   "metadata": {},
   "source": [
    "- python\n",
    "    - **sub point** 1.1\n",
    "    \n",
    "    --*sub point* 2.2\n",
    "    \n",
    "    ***kartheek***\n",
    "   \n",
    "- python2\n"
   ]
  },
  {
   "cell_type": "code",
   "execution_count": 1,
   "metadata": {},
   "outputs": [
    {
     "name": "stdout",
     "output_type": "stream",
     "text": [
      "20\n"
     ]
    }
   ],
   "source": [
    "a=10\n",
    "b=10\n",
    "c=a+b\n",
    "print(c)"
   ]
  },
  {
   "cell_type": "markdown",
   "metadata": {},
   "source": [
    "### python introduction\n",
    "   - python 3\n",
    "   - python can be used as functional programming\n",
    "   - python is used for scripting language\n",
    "   - latest version is python 3\n",
    "   - designed by **GuDO VAN** in 1991"
   ]
  },
  {
   "cell_type": "code",
   "execution_count": 3,
   "metadata": {},
   "outputs": [
    {
     "name": "stdout",
     "output_type": "stream",
     "text": [
      "hello world\n",
      "wlecome to python programming\n"
     ]
    }
   ],
   "source": [
    "# input and output function\n",
    "# output function\n",
    "print(\"hello world\")\n",
    "print(\"wlecome to python programming\")"
   ]
  },
  {
   "cell_type": "code",
   "execution_count": 4,
   "metadata": {},
   "outputs": [
    {
     "name": "stdout",
     "output_type": "stream",
     "text": [
      "makdown code\n"
     ]
    }
   ],
   "source": [
    "print(\"makdown\",end = ' ')\n",
    "print(\"code\")"
   ]
  },
  {
   "cell_type": "code",
   "execution_count": 10,
   "metadata": {},
   "outputs": [
    {
     "name": "stdout",
     "output_type": "stream",
     "text": [
      "enter your name:\n",
      " kartheek bhai\n",
      "your name is kartheek bhai\n"
     ]
    }
   ],
   "source": [
    "# input function\n",
    "print(\"enter your name:\")\n",
    "a = input(' ')\n",
    "print(\"your name is\", a)"
   ]
  },
  {
   "cell_type": "code",
   "execution_count": 11,
   "metadata": {},
   "outputs": [
    {
     "name": "stdout",
     "output_type": "stream",
     "text": [
      "enter a number12\n",
      "enter b number3\n",
      "15\n"
     ]
    }
   ],
   "source": [
    "# addition of two numbers\n",
    "a = int(input(\"enter a number\"))\n",
    "b = int(input(\"enter b number\"))\n",
    "print(a+b)\n"
   ]
  },
  {
   "cell_type": "code",
   "execution_count": 14,
   "metadata": {},
   "outputs": [
    {
     "name": "stdout",
     "output_type": "stream",
     "text": [
      "age25\n",
      "enter your namekartheek\n",
      "25 kartheek\n"
     ]
    }
   ],
   "source": [
    "n = int(input(\"age\"))\n",
    "name = input(\"enter your name\")\n",
    "print(n,end = ' ')\n",
    "print(name)"
   ]
  },
  {
   "cell_type": "markdown",
   "metadata": {},
   "source": [
    "# data types\n",
    "#### fundamental data types\n",
    "- int x = 10\n",
    "- float y = 12.3\n",
    "- complex c1 = 4+5j, c2 =5+6j\n",
    "- boolean b1 = True,b2 = True\n",
    "- string s1=\"abc\",s2='xyz'\n",
    "\n",
    "\n",
    "## collection data types:\n",
    "- list\n",
    "- tuple\n",
    "- dictionary\n"
   ]
  },
  {
   "cell_type": "code",
   "execution_count": 17,
   "metadata": {},
   "outputs": [
    {
     "name": "stdout",
     "output_type": "stream",
     "text": [
      "(7+6j)\n",
      "(1-2j)\n"
     ]
    }
   ],
   "source": [
    "a = 4+2j\n",
    "b = 3+4J\n",
    "print(a+b)\n",
    "print(a-b)"
   ]
  },
  {
   "cell_type": "code",
   "execution_count": 18,
   "metadata": {},
   "outputs": [
    {
     "name": "stdout",
     "output_type": "stream",
     "text": [
      "True <class 'bool'>\n"
     ]
    }
   ],
   "source": [
    "a = 12<45\n",
    "print(a,type(a))"
   ]
  },
  {
   "cell_type": "code",
   "execution_count": 30,
   "metadata": {},
   "outputs": [
    {
     "name": "stdout",
     "output_type": "stream",
     "text": [
      "c\n",
      "a\n",
      "xyz\n",
      "abc \n",
      " xyz\n",
      "\n",
      "acxz\n"
     ]
    }
   ],
   "source": [
    "# strings\n",
    "s1 = \"abc xyz\"\n",
    "s2 = \"asfhj\"\n",
    "print(s1[2])\n",
    "print(s2[-5])\n",
    "print(s1[4:])\n",
    "print(s1[:4])\n",
    "print(s1[3:7])\n",
    "print(s1[-3:0])\n",
    "print(s1[::2])"
   ]
  },
  {
   "cell_type": "code",
   "execution_count": 50,
   "metadata": {},
   "outputs": [
    {
     "name": "stdout",
     "output_type": "stream",
     "text": [
      "nartheen\n"
     ]
    }
   ],
   "source": [
    "str1 = \"kartheek\"\n",
    "#print(strl[::-1])\n",
    "#print(strl[::2])\n",
    "str1 = str1.replace('k','n')\n",
    "print(str1)"
   ]
  },
  {
   "cell_type": "code",
   "execution_count": 54,
   "metadata": {},
   "outputs": [
    {
     "name": "stdout",
     "output_type": "stream",
     "text": [
      "madam\n",
      "palindrome\n"
     ]
    }
   ],
   "source": [
    "s1 = input('')\n",
    "s2 = s1[::-1]\n",
    "if(s1==s2):\n",
    "    print(\"palindrome\")\n",
    "else:\n",
    "    print(\"not palindrome\")\n",
    "\n"
   ]
  },
  {
   "cell_type": "code",
   "execution_count": 60,
   "metadata": {},
   "outputs": [
    {
     "name": "stdout",
     "output_type": "stream",
     "text": [
      "True\n",
      "False\n",
      "True\n"
     ]
    },
    {
     "data": {
      "text/plain": [
       "6"
      ]
     },
     "execution_count": 60,
     "metadata": {},
     "output_type": "execute_result"
    }
   ],
   "source": [
    "str1 = \"abcxyz\"\n",
    "print(str1.isalpha())\n",
    "print(str1.isdigit())\n",
    "print(str1.isalnum())\n",
    "len(str1)\n",
    "\n"
   ]
  },
  {
   "cell_type": "code",
   "execution_count": null,
   "metadata": {},
   "outputs": [],
   "source": []
  }
 ],
 "metadata": {
  "kernelspec": {
   "display_name": "Python 3",
   "language": "python",
   "name": "python3"
  },
  "language_info": {
   "codemirror_mode": {
    "name": "ipython",
    "version": 3
   },
   "file_extension": ".py",
   "mimetype": "text/x-python",
   "name": "python",
   "nbconvert_exporter": "python",
   "pygments_lexer": "ipython3",
   "version": "3.7.4"
  }
 },
 "nbformat": 4,
 "nbformat_minor": 2
}
